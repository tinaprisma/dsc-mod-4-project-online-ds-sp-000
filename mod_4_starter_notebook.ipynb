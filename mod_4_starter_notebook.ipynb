{
 "cells": [
  {
   "cell_type": "markdown",
   "metadata": {},
   "source": [
    "# Mod 4 Project - Starter Notebook\n",
    "\n",
    "This notebook has been provided to you so that you can make use of the following starter code to help with the trickier parts of preprocessing the Zillow dataset. \n",
    "\n",
    "The notebook contains a rough outline the general order you'll likely want to take in this project. You'll notice that most of the areas are left blank. This is so that it's more obvious exactly when you should make use of the starter code provided for preprocessing. \n",
    "\n",
    "**_NOTE:_** The number of empty cells are not meant to infer how much or how little code should be involved in any given step--we've just provided a few for your convenience. Add, delete, and change things around in this notebook as needed!\n",
    "\n",
    "# Some Notes Before Starting\n",
    "\n",
    "This project will be one of the more challenging projects you complete in this program. This is because working with Time Series data is a bit different than working with regular datasets. In order to make this a bit less frustrating and help you understand what you need to do (and when you need to do it), we'll quickly review the dataset formats that you'll encounter in this project. \n",
    "\n",
    "## Wide Format vs Long Format\n",
    "\n",
    "If you take a look at the format of the data in `zillow_data.csv`, you'll notice that the actual Time Series values are stored as separate columns. Here's a sample: \n",
    "\n",
    "<img src='~/../images/df_head.png'>\n",
    "\n",
    "You'll notice that the first seven columns look like any other dataset you're used to working with. However, column 8 refers to the median housing sales values for April 1996, column 9 for May 1996, and so on. This This is called **_Wide Format_**, and it makes the dataframe intuitive and easy to read. However, there are problems with this format when it comes to actually learning from the data, because the data only makes sense if you know the name of the column that the data can be found it. Since column names are metadata, our algorithms will miss out on what dates each value is for. This means that before we pass this data to our ARIMA model, we'll need to reshape our dataset to **_Long Format_**. Reshaped into long format, the dataframe above would now look like:\n",
    "\n",
    "<img src='~/../images/melted1.png'>\n",
    "\n",
    "There are now many more rows in this dataset--one for each unique time and zipcode combination in the data! Once our dataset is in this format, we'll be able to train an ARIMA model on it. The method used to convert from Wide to Long is `pd.melt()`, and it is common to refer to our dataset as 'melted' after the transition to denote that it is in long format. \n",
    "\n",
    "# Helper Functions Provided\n",
    "\n",
    "Melting a dataset can be tricky if you've never done it before, so you'll see that we have provided a sample function, `melt_data()`, to help you with this step below. Also provided is:\n",
    "\n",
    "* `get_datetimes()`, a function to deal with converting the column values for datetimes as a pandas series of datetime objects\n",
    "* Some good parameters for matplotlib to help make your visualizations more readable. \n",
    "\n",
    "Good luck!\n",
    "\n",
    "\n",
    "# Step 1: Load the Data/Filtering for Chosen Zipcodes"
   ]
  },
  {
   "cell_type": "code",
   "execution_count": 11,
   "metadata": {},
   "outputs": [
    {
     "data": {
      "text/plain": [
       "<module 'warnings' from '/Users/valentina/anaconda3/lib/python3.7/warnings.py'>"
      ]
     },
     "execution_count": 11,
     "metadata": {},
     "output_type": "execute_result"
    }
   ],
   "source": [
    "# Import Libraries\n",
    "import pandas as pd\n",
    "import numpy as np\n",
    "import matplotlib.pyplot as plt\n",
    "%matplotlib inline\n",
    "# Import necessary libraries\n",
    "import itertools\n",
    "import statsmodels.api as sm\n",
    "import matplotlib.pyplot as plt\n",
    "from matplotlib.pylab import rcParams\n",
    "plt.style.use('ggplot')\n",
    "import warnings\n",
    "warnings.filterwarnings('ignore')\n",
    "warnings"
   ]
  },
  {
   "cell_type": "code",
   "execution_count": 12,
   "metadata": {},
   "outputs": [],
   "source": [
    "df = pd.read_csv('zillow_data.csv')"
   ]
  },
  {
   "cell_type": "code",
   "execution_count": 13,
   "metadata": {},
   "outputs": [
    {
     "data": {
      "text/html": [
       "<div>\n",
       "<style scoped>\n",
       "    .dataframe tbody tr th:only-of-type {\n",
       "        vertical-align: middle;\n",
       "    }\n",
       "\n",
       "    .dataframe tbody tr th {\n",
       "        vertical-align: top;\n",
       "    }\n",
       "\n",
       "    .dataframe thead th {\n",
       "        text-align: right;\n",
       "    }\n",
       "</style>\n",
       "<table border=\"1\" class=\"dataframe\">\n",
       "  <thead>\n",
       "    <tr style=\"text-align: right;\">\n",
       "      <th></th>\n",
       "      <th>RegionID</th>\n",
       "      <th>RegionName</th>\n",
       "      <th>City</th>\n",
       "      <th>State</th>\n",
       "      <th>Metro</th>\n",
       "      <th>CountyName</th>\n",
       "      <th>SizeRank</th>\n",
       "      <th>1996-04</th>\n",
       "      <th>1996-05</th>\n",
       "      <th>1996-06</th>\n",
       "      <th>...</th>\n",
       "      <th>2017-07</th>\n",
       "      <th>2017-08</th>\n",
       "      <th>2017-09</th>\n",
       "      <th>2017-10</th>\n",
       "      <th>2017-11</th>\n",
       "      <th>2017-12</th>\n",
       "      <th>2018-01</th>\n",
       "      <th>2018-02</th>\n",
       "      <th>2018-03</th>\n",
       "      <th>2018-04</th>\n",
       "    </tr>\n",
       "  </thead>\n",
       "  <tbody>\n",
       "    <tr>\n",
       "      <th>0</th>\n",
       "      <td>84654</td>\n",
       "      <td>60657</td>\n",
       "      <td>Chicago</td>\n",
       "      <td>IL</td>\n",
       "      <td>Chicago</td>\n",
       "      <td>Cook</td>\n",
       "      <td>1</td>\n",
       "      <td>334200.0</td>\n",
       "      <td>335400.0</td>\n",
       "      <td>336500.0</td>\n",
       "      <td>...</td>\n",
       "      <td>1005500</td>\n",
       "      <td>1007500</td>\n",
       "      <td>1007800</td>\n",
       "      <td>1009600</td>\n",
       "      <td>1013300</td>\n",
       "      <td>1018700</td>\n",
       "      <td>1024400</td>\n",
       "      <td>1030700</td>\n",
       "      <td>1033800</td>\n",
       "      <td>1030600</td>\n",
       "    </tr>\n",
       "    <tr>\n",
       "      <th>1</th>\n",
       "      <td>90668</td>\n",
       "      <td>75070</td>\n",
       "      <td>McKinney</td>\n",
       "      <td>TX</td>\n",
       "      <td>Dallas-Fort Worth</td>\n",
       "      <td>Collin</td>\n",
       "      <td>2</td>\n",
       "      <td>235700.0</td>\n",
       "      <td>236900.0</td>\n",
       "      <td>236700.0</td>\n",
       "      <td>...</td>\n",
       "      <td>308000</td>\n",
       "      <td>310000</td>\n",
       "      <td>312500</td>\n",
       "      <td>314100</td>\n",
       "      <td>315000</td>\n",
       "      <td>316600</td>\n",
       "      <td>318100</td>\n",
       "      <td>319600</td>\n",
       "      <td>321100</td>\n",
       "      <td>321800</td>\n",
       "    </tr>\n",
       "    <tr>\n",
       "      <th>2</th>\n",
       "      <td>91982</td>\n",
       "      <td>77494</td>\n",
       "      <td>Katy</td>\n",
       "      <td>TX</td>\n",
       "      <td>Houston</td>\n",
       "      <td>Harris</td>\n",
       "      <td>3</td>\n",
       "      <td>210400.0</td>\n",
       "      <td>212200.0</td>\n",
       "      <td>212200.0</td>\n",
       "      <td>...</td>\n",
       "      <td>321000</td>\n",
       "      <td>320600</td>\n",
       "      <td>320200</td>\n",
       "      <td>320400</td>\n",
       "      <td>320800</td>\n",
       "      <td>321200</td>\n",
       "      <td>321200</td>\n",
       "      <td>323000</td>\n",
       "      <td>326900</td>\n",
       "      <td>329900</td>\n",
       "    </tr>\n",
       "    <tr>\n",
       "      <th>3</th>\n",
       "      <td>84616</td>\n",
       "      <td>60614</td>\n",
       "      <td>Chicago</td>\n",
       "      <td>IL</td>\n",
       "      <td>Chicago</td>\n",
       "      <td>Cook</td>\n",
       "      <td>4</td>\n",
       "      <td>498100.0</td>\n",
       "      <td>500900.0</td>\n",
       "      <td>503100.0</td>\n",
       "      <td>...</td>\n",
       "      <td>1289800</td>\n",
       "      <td>1287700</td>\n",
       "      <td>1287400</td>\n",
       "      <td>1291500</td>\n",
       "      <td>1296600</td>\n",
       "      <td>1299000</td>\n",
       "      <td>1302700</td>\n",
       "      <td>1306400</td>\n",
       "      <td>1308500</td>\n",
       "      <td>1307000</td>\n",
       "    </tr>\n",
       "    <tr>\n",
       "      <th>4</th>\n",
       "      <td>93144</td>\n",
       "      <td>79936</td>\n",
       "      <td>El Paso</td>\n",
       "      <td>TX</td>\n",
       "      <td>El Paso</td>\n",
       "      <td>El Paso</td>\n",
       "      <td>5</td>\n",
       "      <td>77300.0</td>\n",
       "      <td>77300.0</td>\n",
       "      <td>77300.0</td>\n",
       "      <td>...</td>\n",
       "      <td>119100</td>\n",
       "      <td>119400</td>\n",
       "      <td>120000</td>\n",
       "      <td>120300</td>\n",
       "      <td>120300</td>\n",
       "      <td>120300</td>\n",
       "      <td>120300</td>\n",
       "      <td>120500</td>\n",
       "      <td>121000</td>\n",
       "      <td>121500</td>\n",
       "    </tr>\n",
       "  </tbody>\n",
       "</table>\n",
       "<p>5 rows × 272 columns</p>\n",
       "</div>"
      ],
      "text/plain": [
       "   RegionID  RegionName      City State              Metro CountyName  \\\n",
       "0     84654       60657   Chicago    IL            Chicago       Cook   \n",
       "1     90668       75070  McKinney    TX  Dallas-Fort Worth     Collin   \n",
       "2     91982       77494      Katy    TX            Houston     Harris   \n",
       "3     84616       60614   Chicago    IL            Chicago       Cook   \n",
       "4     93144       79936   El Paso    TX            El Paso    El Paso   \n",
       "\n",
       "   SizeRank   1996-04   1996-05   1996-06  ...  2017-07  2017-08  2017-09  \\\n",
       "0         1  334200.0  335400.0  336500.0  ...  1005500  1007500  1007800   \n",
       "1         2  235700.0  236900.0  236700.0  ...   308000   310000   312500   \n",
       "2         3  210400.0  212200.0  212200.0  ...   321000   320600   320200   \n",
       "3         4  498100.0  500900.0  503100.0  ...  1289800  1287700  1287400   \n",
       "4         5   77300.0   77300.0   77300.0  ...   119100   119400   120000   \n",
       "\n",
       "   2017-10  2017-11  2017-12  2018-01  2018-02  2018-03  2018-04  \n",
       "0  1009600  1013300  1018700  1024400  1030700  1033800  1030600  \n",
       "1   314100   315000   316600   318100   319600   321100   321800  \n",
       "2   320400   320800   321200   321200   323000   326900   329900  \n",
       "3  1291500  1296600  1299000  1302700  1306400  1308500  1307000  \n",
       "4   120300   120300   120300   120300   120500   121000   121500  \n",
       "\n",
       "[5 rows x 272 columns]"
      ]
     },
     "execution_count": 13,
     "metadata": {},
     "output_type": "execute_result"
    }
   ],
   "source": [
    "df.head()"
   ]
  },
  {
   "cell_type": "markdown",
   "metadata": {},
   "source": [
    "# Step 2: Data Preprocessing"
   ]
  },
  {
   "cell_type": "code",
   "execution_count": 14,
   "metadata": {},
   "outputs": [],
   "source": [
    "dates = pd.to_datetime(df.columns.values[7:], format='%Y-%m')"
   ]
  },
  {
   "cell_type": "code",
   "execution_count": 15,
   "metadata": {},
   "outputs": [
    {
     "data": {
      "text/plain": [
       "14723"
      ]
     },
     "execution_count": 15,
     "metadata": {},
     "output_type": "execute_result"
    }
   ],
   "source": [
    "len(df.RegionID)"
   ]
  },
  {
   "cell_type": "code",
   "execution_count": 16,
   "metadata": {},
   "outputs": [
    {
     "name": "stdout",
     "output_type": "stream",
     "text": [
      "<class 'pandas.core.frame.DataFrame'>\n",
      "RangeIndex: 14723 entries, 0 to 14722\n",
      "Columns: 272 entries, RegionID to 2018-04\n",
      "dtypes: float64(219), int64(49), object(4)\n",
      "memory usage: 30.6+ MB\n"
     ]
    }
   ],
   "source": [
    "df.info()"
   ]
  },
  {
   "cell_type": "code",
   "execution_count": 17,
   "metadata": {},
   "outputs": [],
   "source": [
    "#df.describe()\n"
   ]
  },
  {
   "cell_type": "code",
   "execution_count": 18,
   "metadata": {},
   "outputs": [
    {
     "data": {
      "text/plain": [
       "157934"
      ]
     },
     "execution_count": 18,
     "metadata": {},
     "output_type": "execute_result"
    }
   ],
   "source": [
    "# check for data types and percentage of null values in each column\n",
    "(df.isna().sum()).sum()"
   ]
  },
  {
   "cell_type": "code",
   "execution_count": 19,
   "metadata": {},
   "outputs": [],
   "source": [
    "# replace NaN cells with previous value\n",
    "for c in df.columns:\n",
    "    if type(df[c][0]) != str :\n",
    "        #df[c] = df[c].ffill()\n",
    "        df[c] = df[c].fillna(np.median(df[c]))"
   ]
  },
  {
   "cell_type": "code",
   "execution_count": 20,
   "metadata": {},
   "outputs": [
    {
     "data": {
      "text/plain": [
       "157934"
      ]
     },
     "execution_count": 20,
     "metadata": {},
     "output_type": "execute_result"
    }
   ],
   "source": [
    "# check for any other \n",
    "(df.isna().sum()).sum()"
   ]
  },
  {
   "cell_type": "code",
   "execution_count": 21,
   "metadata": {},
   "outputs": [],
   "source": [
    "# drop remaining rows with NaN values (Metro)\n",
    "df.dropna(inplace=True)"
   ]
  },
  {
   "cell_type": "markdown",
   "metadata": {},
   "source": [
    "# Step 3: EDA and Visualization"
   ]
  },
  {
   "cell_type": "code",
   "execution_count": 22,
   "metadata": {},
   "outputs": [],
   "source": [
    "df = df.sort_values(by=['State','City','SizeRank'])"
   ]
  },
  {
   "cell_type": "code",
   "execution_count": null,
   "metadata": {},
   "outputs": [],
   "source": []
  },
  {
   "cell_type": "markdown",
   "metadata": {},
   "source": [
    "# Step 4: Reshape from Wide to Long Format"
   ]
  },
  {
   "cell_type": "code",
   "execution_count": 23,
   "metadata": {},
   "outputs": [],
   "source": [
    "def melt_data(df):\n",
    "    melted = pd.melt(df, id_vars=['RegionID','SizeRank','RegionName', 'City', 'State', 'Metro', 'CountyName'], var_name='time')\n",
    "    melted['time'] = pd.to_datetime(melted['time'], infer_datetime_format=True)\n",
    "    melted.set_index('time',inplace=True)\n",
    "    return melted\n",
    "    #return melted.groupby('time').aggregate({'value':'mean'})\n",
    "    "
   ]
  },
  {
   "cell_type": "code",
   "execution_count": 24,
   "metadata": {},
   "outputs": [],
   "source": [
    "df = melt_data(df).sort_values(by=['State','City','RegionID'])"
   ]
  },
  {
   "cell_type": "code",
   "execution_count": 25,
   "metadata": {},
   "outputs": [
    {
     "data": {
      "text/plain": [
       "Text(0, 0.5, 'Value')"
      ]
     },
     "execution_count": 25,
     "metadata": {},
     "output_type": "execute_result"
    },
    {
     "data": {
      "image/png": "[encoded data removed]",
      "text/plain": [
       "<Figure size 1440x720 with 1 Axes>"
      ]
     },
     "metadata": {},
     "output_type": "display_data"
    }
   ],
   "source": [
    "df.value.plot(figsize=(20,10))\n",
    "plt.ylabel('Value')"
   ]
  },
  {
   "cell_type": "code",
   "execution_count": 26,
   "metadata": {},
   "outputs": [],
   "source": [
    "min_ = df.groupby('RegionID').aggregate({'value':'min'})\n",
    "max_ = df.groupby('RegionID').aggregate({'value':'max'})\n",
    "range_ = max_ - min_\n",
    "#range_.sort_values(by='value')"
   ]
  },
  {
   "cell_type": "code",
   "execution_count": 27,
   "metadata": {},
   "outputs": [
    {
     "data": {
      "text/plain": [
       "0"
      ]
     },
     "execution_count": 27,
     "metadata": {},
     "output_type": "execute_result"
    }
   ],
   "source": [
    "len(df[df.RegionID == 61635])"
   ]
  },
  {
   "cell_type": "code",
   "execution_count": null,
   "metadata": {},
   "outputs": [],
   "source": [
    "len(df.RegionID.unique())"
   ]
  },
  {
   "cell_type": "code",
   "execution_count": null,
   "metadata": {},
   "outputs": [],
   "source": [
    "len(df.City.unique())"
   ]
  },
  {
   "cell_type": "code",
   "execution_count": null,
   "metadata": {},
   "outputs": [],
   "source": [
    "len(df.Metro.unique())"
   ]
  },
  {
   "cell_type": "code",
   "execution_count": null,
   "metadata": {},
   "outputs": [],
   "source": [
    "len(df.CountyName.unique())"
   ]
  },
  {
   "cell_type": "code",
   "execution_count": 28,
   "metadata": {},
   "outputs": [],
   "source": [
    "metros = df.Metro.unique()\n",
    "zipcodes = df.RegionName.unique()\n",
    "cities = df.City.unique()\n",
    "states = df.State.unique()"
   ]
  },
  {
   "cell_type": "code",
   "execution_count": null,
   "metadata": {},
   "outputs": [],
   "source": [
    "for s in states:\n",
    "    plt.Figure(figsize=(20,15))\n",
    "    print(s)\n",
    "    df_s = df[df.State == s]\n",
    "    metros = df_s.Metro.unique()\n",
    "    for m in metros:\n",
    "        df_m = df_s[df_s.Metro == m]\n",
    "        zipcodes = df_m.RegionName.unique()\n",
    "        for z in zipcodes:\n",
    "            \n",
    "            df_z = df_m[df_m.RegionName == z]\n",
    "            values = df_z.value\n",
    "            plt.plot(values)\n",
    "            plt.title(s)\n",
    "    plt.show()\n"
   ]
  },
  {
   "cell_type": "markdown",
   "metadata": {},
   "source": [
    "# Step 5: ARIMA Modeling"
   ]
  },
  {
   "cell_type": "code",
   "execution_count": null,
   "metadata": {},
   "outputs": [],
   "source": [
    "for s in states:\n",
    "    plt.Figure(figsize=(20,15))\n",
    "    print(s)\n",
    "    df_s = df[df.State == s]\n",
    "    metros = df_s.Metro.unique()\n",
    "    for m in metros:\n",
    "        df_m = df_s[df_s.Metro == m]\n",
    "        zipcodes = df_m.RegionName.unique()\n",
    "        for z in zipcodes:\n",
    "            \n",
    "            df_z = df_m[df_m.RegionName == z]\n",
    "            values = df_z.value\n",
    "            values_diff = values.diff(periods=6)\n",
    "            plt.plot(values_diff)\n",
    "            plt.title(s)\n",
    "    plt.show()\n",
    "            "
   ]
  },
  {
   "cell_type": "code",
   "execution_count": null,
   "metadata": {},
   "outputs": [],
   "source": [
    "df[df.Metro=='Houston'].value.plot()\n",
    "df[df.Metro=='Houston'].value."
   ]
  },
  {
   "cell_type": "code",
   "execution_count": null,
   "metadata": {},
   "outputs": [],
   "source": [
    "for s in states:\n",
    "    plt.Figure(figsize=(20,15))\n",
    "    print(s)\n",
    "    df_s = df[df.State == s]\n",
    "    metros = df_s.Metro.unique()\n",
    "    for m in metros:\n",
    "        df_m = df_s[df_s.Metro == m]\n",
    "        zipcodes = df_m.RegionName.unique()\n",
    "        for z in zipcodes: \n",
    "            df_z = df_m[df_m.RegionName == z]\n",
    "            values = df_z.value\n",
    "            #values_diff = values.diff(periods=1)\n",
    "            pd.plotting.autocorrelation_plot(values)\n",
    "            plt.title(s)\n",
    "    plt.show()\n"
   ]
  },
  {
   "cell_type": "code",
   "execution_count": null,
   "metadata": {},
   "outputs": [],
   "source": [
    "# Look at ACF and PACF of time series\n",
    "pd.plotting.autocorrelation_plot(trend1_diff)"
   ]
  },
  {
   "cell_type": "code",
   "execution_count": null,
   "metadata": {},
   "outputs": [],
   "source": [
    "from statsmodels.graphics.tsaplots import plot_pacf\n",
    "from matplotlib.pylab import rcParams\n",
    "\n",
    "rcParams['figure.figsize'] = 14, 5\n",
    "\n",
    "plot_pacf(trend1_diff, lags = 100);"
   ]
  },
  {
   "cell_type": "code",
   "execution_count": null,
   "metadata": {},
   "outputs": [],
   "source": [
    "# Decide AR, MA and order of these models"
   ]
  },
  {
   "cell_type": "code",
   "execution_count": null,
   "metadata": {},
   "outputs": [],
   "source": [
    "# Fit model to get the correct paramenters\n",
    "# and use for predicition"
   ]
  },
  {
   "cell_type": "code",
   "execution_count": 30,
   "metadata": {},
   "outputs": [],
   "source": [
    "# Define the p, d and q parameters to take any value between 0 and 2\n",
    "p = d = q = range(0, 2)\n",
    "\n",
    "# Generate all different combinations of p, q and q triplets\n",
    "pdq = list(itertools.product(p, d, q))\n",
    "\n",
    "# Generate all different combinations of seasonal p, q and q triplets\n",
    "pdqs = [(x[0], x[1], x[2], 12) for x in list(itertools.product(p, d, q))]"
   ]
  },
  {
   "cell_type": "code",
   "execution_count": 31,
   "metadata": {},
   "outputs": [
    {
     "name": "stdout",
     "output_type": "stream",
     "text": [
      "AK\n",
      "ARIMA (0, 0, 0) x (0, 0, 0, 12)12 : AIC Calculated =7358.482271890298\n",
      "ARIMA (0, 0, 0) x (0, 0, 1, 12)12 : AIC Calculated =6870.800627764295\n",
      "ARIMA (0, 0, 0) x (0, 1, 0, 12)12 : AIC Calculated =5721.639368401382\n",
      "ARIMA (0, 0, 0) x (0, 1, 1, 12)12 : AIC Calculated =5461.171870315143\n",
      "ARIMA (0, 0, 0) x (1, 0, 0, 12)12 : AIC Calculated =5673.802312584435\n",
      "ARIMA (0, 0, 0) x (1, 0, 1, 12)12 : AIC Calculated =5650.996668046166\n",
      "ARIMA (0, 0, 0) x (1, 1, 0, 12)12 : AIC Calculated =5482.066195197929\n",
      "ARIMA (0, 0, 0) x (1, 1, 1, 12)12 : AIC Calculated =6864.29202265799\n",
      "ARIMA (0, 0, 1) x (0, 0, 0, 12)12 : AIC Calculated =7139.953044589513\n",
      "ARIMA (0, 0, 1) x (0, 0, 1, 12)12 : AIC Calculated =7116.094435575003\n",
      "ARIMA (0, 0, 1) x (0, 1, 0, 12)12 : AIC Calculated =5699.3236271099195\n",
      "ARIMA (0, 0, 1) x (0, 1, 1, 12)12 : AIC Calculated =5116.905407989452\n",
      "ARIMA (0, 0, 1) x (1, 0, 0, 12)12 : AIC Calculated =7239.133581754267\n",
      "ARIMA (0, 0, 1) x (1, 0, 1, 12)12 : AIC Calculated =7107.755615849972\n",
      "ARIMA (0, 0, 1) x (1, 1, 0, 12)12 : AIC Calculated =5302.311987260495\n",
      "ARIMA (0, 0, 1) x (1, 1, 1, 12)12 : AIC Calculated =6695.315716700542\n",
      "ARIMA (0, 1, 0) x (0, 0, 0, 12)12 : AIC Calculated =4848.991229300924\n",
      "ARIMA (0, 1, 0) x (0, 0, 1, 12)12 : AIC Calculated =4636.273176215864\n",
      "ARIMA (0, 1, 0) x (0, 1, 0, 12)12 : AIC Calculated =4838.534361192931\n",
      "ARIMA (0, 1, 0) x (0, 1, 1, 12)12 : AIC Calculated =4525.373211417678\n",
      "ARIMA (0, 1, 0) x (1, 0, 0, 12)12 : AIC Calculated =4648.534845053098\n",
      "ARIMA (0, 1, 0) x (1, 0, 1, 12)12 : AIC Calculated =4631.5667745251285\n",
      "ARIMA (0, 1, 0) x (1, 1, 0, 12)12 : AIC Calculated =4491.59443508403\n",
      "ARIMA (0, 1, 0) x (1, 1, 1, 12)12 : AIC Calculated =4463.633317331629\n",
      "ARIMA (0, 1, 1) x (0, 0, 0, 12)12 : AIC Calculated =4543.799319813137\n",
      "ARIMA (0, 1, 1) x (0, 0, 1, 12)12 : AIC Calculated =4342.882828203352\n",
      "ARIMA (0, 1, 1) x (0, 1, 0, 12)12 : AIC Calculated =4654.486928938291\n",
      "ARIMA (0, 1, 1) x (0, 1, 1, 12)12 : AIC Calculated =4277.117882026208\n",
      "ARIMA (0, 1, 1) x (1, 0, 0, 12)12 : AIC Calculated =4414.376291614754\n",
      "ARIMA (0, 1, 1) x (1, 0, 1, 12)12 : AIC Calculated =4344.75652884231\n",
      "ARIMA (0, 1, 1) x (1, 1, 0, 12)12 : AIC Calculated =4386.346910118962\n",
      "ARIMA (0, 1, 1) x (1, 1, 1, 12)12 : AIC Calculated =4343.887805656743\n",
      "ARIMA (1, 0, 0) x (0, 0, 0, 12)12 : AIC Calculated =4835.213761821254\n",
      "ARIMA (1, 0, 0) x (0, 0, 1, 12)12 : AIC Calculated =4797.083011663988\n",
      "ARIMA (1, 0, 0) x (0, 1, 0, 12)12 : AIC Calculated =4857.1840593466195\n",
      "ARIMA (1, 0, 0) x (0, 1, 1, 12)12 : AIC Calculated =4643.090967619602\n",
      "ARIMA (1, 0, 0) x (1, 0, 0, 12)12 : AIC Calculated =4594.572931207103\n",
      "ARIMA (1, 0, 0) x (1, 0, 1, 12)12 : AIC Calculated =4596.451441364212\n",
      "ARIMA (1, 0, 0) x (1, 1, 0, 12)12 : AIC Calculated =4524.71052300463\n",
      "ARIMA (1, 0, 0) x (1, 1, 1, 12)12 : AIC Calculated =4524.2573960469745\n",
      "ARIMA (1, 0, 1) x (0, 0, 0, 12)12 : AIC Calculated =4570.515877158397\n",
      "ARIMA (1, 0, 1) x (0, 0, 1, 12)12 : AIC Calculated =4357.220839395191\n",
      "ARIMA (1, 0, 1) x (0, 1, 0, 12)12 : AIC Calculated =4724.373204771124\n",
      "ARIMA (1, 0, 1) x (0, 1, 1, 12)12 : AIC Calculated =4821.042264949419\n",
      "ARIMA (1, 0, 1) x (1, 0, 0, 12)12 : AIC Calculated =4387.406321560631\n",
      "ARIMA (1, 0, 1) x (1, 0, 1, 12)12 : AIC Calculated =4359.219346010711\n",
      "ARIMA (1, 0, 1) x (1, 1, 0, 12)12 : AIC Calculated =4430.627325275841\n",
      "ARIMA (1, 0, 1) x (1, 1, 1, 12)12 : AIC Calculated =4391.622240483377\n",
      "ARIMA (1, 1, 0) x (0, 0, 0, 12)12 : AIC Calculated =4459.557984221419\n",
      "ARIMA (1, 1, 0) x (0, 0, 1, 12)12 : AIC Calculated =4245.755365873902\n",
      "ARIMA (1, 1, 0) x (0, 1, 0, 12)12 : AIC Calculated =4487.245825640719\n",
      "ARIMA (1, 1, 0) x (0, 1, 1, 12)12 : AIC Calculated =4238.235592822446\n",
      "ARIMA (1, 1, 0) x (1, 0, 0, 12)12 : AIC Calculated =4243.548537242767\n",
      "ARIMA (1, 1, 0) x (1, 0, 1, 12)12 : AIC Calculated =4245.895351044332\n",
      "ARIMA (1, 1, 0) x (1, 1, 0, 12)12 : AIC Calculated =4158.813016165198\n",
      "ARIMA (1, 1, 0) x (1, 1, 1, 12)12 : AIC Calculated =4159.195870479476\n",
      "ARIMA (1, 1, 1) x (0, 0, 0, 12)12 : AIC Calculated =4379.619540321973\n",
      "ARIMA (1, 1, 1) x (0, 0, 1, 12)12 : AIC Calculated =4127.241034071993\n",
      "ARIMA (1, 1, 1) x (0, 1, 0, 12)12 : AIC Calculated =4426.813414128001\n",
      "ARIMA (1, 1, 1) x (0, 1, 1, 12)12 : AIC Calculated =4117.148454139773\n",
      "ARIMA (1, 1, 1) x (1, 0, 0, 12)12 : AIC Calculated =4161.021632510446\n",
      "ARIMA (1, 1, 1) x (1, 0, 1, 12)12 : AIC Calculated =4128.55942455926\n",
      "ARIMA (1, 1, 1) x (1, 1, 0, 12)12 : AIC Calculated =4150.77348491343\n",
      "ARIMA (1, 1, 1) x (1, 1, 1, 12)12 : AIC Calculated =4108.578805306101\n"
     ]
    }
   ],
   "source": [
    "# Run a grid with pdq and seasonal pdq parameters calculated above and get the best AIC value\n",
    "\n",
    "\n",
    "for s in states[0:1]:\n",
    "    plt.Figure(figsize=(20,15))\n",
    "    print(s)\n",
    "    df_s = df[df.State == s]\n",
    "    metros = df_s.Metro.unique()\n",
    "    for m in metros[0:1]:\n",
    "        df_m = df_s[df_s.Metro == m]\n",
    "        zipcodes = df_m.RegionName.unique()\n",
    "        for z in zipcodes[0:1]: \n",
    "            df_z = df_m[df_m.RegionName == z]\n",
    "            values = df_z.value\n",
    "\n",
    "            ans = []\n",
    "            for comb in pdq:\n",
    "                for combs in pdqs:\n",
    "                    try:\n",
    "                        mod = sm.tsa.statespace.SARIMAX(values,\n",
    "                                                        order=comb,\n",
    "                                                        seasonal_order=combs,\n",
    "                                                        enforce_stationarity=False,\n",
    "                                                        enforce_invertibility=False)\n",
    "\n",
    "                        output = mod.fit()\n",
    "                        ans.append([comb, combs, output.aic])\n",
    "                        print('ARIMA {} x {}12 : AIC Calculated ={}'.format(comb, combs, output.aic))\n",
    "                    except:\n",
    "                        continue\n"
   ]
  },
  {
   "cell_type": "code",
   "execution_count": 32,
   "metadata": {},
   "outputs": [
    {
     "data": {
      "text/plain": [
       "pdq         (1, 1, 1)\n",
       "pdqs    (1, 1, 1, 12)\n",
       "aic           4108.58\n",
       "Name: 63, dtype: object"
      ]
     },
     "execution_count": 32,
     "metadata": {},
     "output_type": "execute_result"
    }
   ],
   "source": [
    "ans_df = pd.DataFrame(ans, columns=['pdq', 'pdqs', 'aic'])\n",
    "ans_df.loc[ans_df['aic'].idxmin()]"
   ]
  },
  {
   "cell_type": "markdown",
   "metadata": {},
   "source": [
    "# Step 6: Interpreting Results"
   ]
  },
  {
   "cell_type": "code",
   "execution_count": null,
   "metadata": {},
   "outputs": [],
   "source": []
  },
  {
   "cell_type": "code",
   "execution_count": null,
   "metadata": {},
   "outputs": [],
   "source": []
  },
  {
   "cell_type": "code",
   "execution_count": null,
   "metadata": {},
   "outputs": [],
   "source": []
  }
 ],
 "metadata": {
  "kernelspec": {
   "display_name": "Python 3",
   "language": "python",
   "name": "python3"
  },
  "language_info": {
   "codemirror_mode": {
    "name": "ipython",
    "version": 3
   },
   "file_extension": ".py",
   "mimetype": "text/x-python",
   "name": "python",
   "nbconvert_exporter": "python",
   "pygments_lexer": "ipython3",
   "version": "3.7.3"
  }
 },
 "nbformat": 4,
 "nbformat_minor": 2
}
